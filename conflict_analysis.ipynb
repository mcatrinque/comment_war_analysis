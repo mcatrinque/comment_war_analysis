{
 "cells": [
  {
   "cell_type": "markdown",
   "id": "71c3a8d7",
   "metadata": {},
   "source": [
    "# Análise de Sentimentos em Discursos de Conflitos Internacionais\n",
    "\n",
    "Mais explicações sobre o projeto, podem ser acompanhadas a partir do vídeo:\n",
    "- [Análise de Sentimentos em Discursos de Conflitos Internacionais](https://youtu.be/qTNbjE-_Yc4)"
   ]
  },
  {
   "cell_type": "markdown",
   "id": "eff37990",
   "metadata": {},
   "source": [
    "## Introdução\n",
    "\n",
    "O presente projeto tem como objetivo central a análise de discursos e a previsão de sua polaridade, categorizando-os como `war_support`, `war_opposite` ou `neutral`, e também a geração de uma predição se o comentário é sobre o conflito Israel x Palestina ou Russia x Ucrania. \n",
    "\n",
    "A fonte de dados para esta investigação foram dois conjuntos disponíveis na plataforma Kaggle, sendo eles:\n",
    "\n",
    "- [Israel Palestine War Sentiment Analysis](https://www.kaggle.com/code/shamsheerrahiman/israel-palestine-war-sentiment-analysis/)\n",
    "- [Ukraine Russia War Reddit Data](https://www.kaggle.com/datasets/diyacharya/ukraine-russia-war-reddit-data)\n",
    "\n",
    "\n",
    "Esses conjuntos de dados foram escolhidos devido à riqueza de informações relacionadas aos sentimentos expressos nos comentários em ambientes online durante períodos sensíveis de conflitos geopolíticos. \n",
    "\n",
    "O projeto visa empregar técnicas avançadas de processamento de linguagem natural e aprendizado profundo, especificamente utilizando um modelo LSTM (Long Short-Term Memory), para realizar análises preditivas e extrair insights significativos a partir desses discursos. \n",
    "\n",
    "O contexto geopolítico desses conflitos, aliado à diversidade linguística e à polarização de opiniões, torna essa análise de extrema relevância para compreender as nuances dos sentimentos expressos durante eventos de grande impacto global."
   ]
  },
  {
   "cell_type": "code",
   "execution_count": 1,
   "id": "99d796b0",
   "metadata": {},
   "outputs": [
    {
     "name": "stdout",
     "output_type": "stream",
     "text": [
      "\u001b[33mDEPRECATION: distro-info 1.1build1 has a non-standard version number. pip 24.0 will enforce this behaviour change. A possible replacement is to upgrade to a newer version of distro-info or contact the author to suggest that they release a version with a conforming version number. Discussion can be found at https://github.com/pypa/pip/issues/12063\u001b[0m\u001b[33m\n",
      "\u001b[0m\u001b[33mDEPRECATION: python-debian 0.1.43ubuntu1 has a non-standard version number. pip 24.0 will enforce this behaviour change. A possible replacement is to upgrade to a newer version of python-debian or contact the author to suggest that they release a version with a conforming version number. Discussion can be found at https://github.com/pypa/pip/issues/12063\u001b[0m\u001b[33m\n",
      "\u001b[0m\u001b[33mDEPRECATION: distro-info 1.1build1 has a non-standard version number. pip 24.0 will enforce this behaviour change. A possible replacement is to upgrade to a newer version of distro-info or contact the author to suggest that they release a version with a conforming version number. Discussion can be found at https://github.com/pypa/pip/issues/12063\u001b[0m\u001b[33m\n",
      "\u001b[0m\u001b[33mDEPRECATION: python-debian 0.1.43ubuntu1 has a non-standard version number. pip 24.0 will enforce this behaviour change. A possible replacement is to upgrade to a newer version of python-debian or contact the author to suggest that they release a version with a conforming version number. Discussion can be found at https://github.com/pypa/pip/issues/12063\u001b[0m\u001b[33m\n",
      "\u001b[0m\u001b[33mDEPRECATION: distro-info 1.1build1 has a non-standard version number. pip 24.0 will enforce this behaviour change. A possible replacement is to upgrade to a newer version of distro-info or contact the author to suggest that they release a version with a conforming version number. Discussion can be found at https://github.com/pypa/pip/issues/12063\u001b[0m\u001b[33m\n",
      "\u001b[0m\u001b[33mDEPRECATION: python-debian 0.1.43ubuntu1 has a non-standard version number. pip 24.0 will enforce this behaviour change. A possible replacement is to upgrade to a newer version of python-debian or contact the author to suggest that they release a version with a conforming version number. Discussion can be found at https://github.com/pypa/pip/issues/12063\u001b[0m\u001b[33m\n",
      "\u001b[0m"
     ]
    }
   ],
   "source": [
    "!pip install -q tensorflow\n",
    "!pip install -q matplotlib \n",
    "!pip install -q seaborn"
   ]
  },
  {
   "cell_type": "code",
   "execution_count": 2,
   "id": "7ea385ba",
   "metadata": {},
   "outputs": [
    {
     "name": "stderr",
     "output_type": "stream",
     "text": [
      "/usr/lib/python3/dist-packages/scipy/__init__.py:146: UserWarning: A NumPy version >=1.17.3 and <1.25.0 is required for this version of SciPy (detected version 1.26.2\n",
      "  warnings.warn(f\"A NumPy version >={np_minversion} and <{np_maxversion}\"\n",
      "2023-12-14 02:54:31.342593: E external/local_xla/xla/stream_executor/cuda/cuda_dnn.cc:9261] Unable to register cuDNN factory: Attempting to register factory for plugin cuDNN when one has already been registered\n",
      "2023-12-14 02:54:31.342619: E external/local_xla/xla/stream_executor/cuda/cuda_fft.cc:607] Unable to register cuFFT factory: Attempting to register factory for plugin cuFFT when one has already been registered\n",
      "2023-12-14 02:54:31.343396: E external/local_xla/xla/stream_executor/cuda/cuda_blas.cc:1515] Unable to register cuBLAS factory: Attempting to register factory for plugin cuBLAS when one has already been registered\n",
      "2023-12-14 02:54:31.348374: I tensorflow/core/platform/cpu_feature_guard.cc:182] This TensorFlow binary is optimized to use available CPU instructions in performance-critical operations.\n",
      "To enable the following instructions: AVX2 FMA, in other operations, rebuild TensorFlow with the appropriate compiler flags.\n",
      "2023-12-14 02:54:32.033771: W tensorflow/compiler/tf2tensorrt/utils/py_utils.cc:38] TF-TRT Warning: Could not find TensorRT\n",
      "[nltk_data] Downloading package vader_lexicon to\n",
      "[nltk_data]     /home/mcatrinque/nltk_data...\n",
      "[nltk_data]   Package vader_lexicon is already up-to-date!\n",
      "[nltk_data] Downloading package stopwords to\n",
      "[nltk_data]     /home/mcatrinque/nltk_data...\n",
      "[nltk_data]   Package stopwords is already up-to-date!\n",
      "[nltk_data] Downloading package wordnet to\n",
      "[nltk_data]     /home/mcatrinque/nltk_data...\n",
      "[nltk_data]   Package wordnet is already up-to-date!\n"
     ]
    },
    {
     "data": {
      "text/plain": [
       "True"
      ]
     },
     "execution_count": 2,
     "metadata": {},
     "output_type": "execute_result"
    }
   ],
   "source": [
    "import re\n",
    "import pandas as pd\n",
    "import numpy as np\n",
    "\n",
    "from tqdm.notebook import tqdm\n",
    "\n",
    "import nltk\n",
    "from nltk import WordNetLemmatizer\n",
    "from nltk.sentiment import SentimentIntensityAnalyzer\n",
    "from nltk.corpus import stopwords\n",
    "\n",
    "\n",
    "from sklearn.model_selection import train_test_split\n",
    "from sklearn.preprocessing import LabelEncoder\n",
    "from sklearn.metrics import classification_report, confusion_matrix, ConfusionMatrixDisplay\n",
    "from sklearn.metrics import roc_curve, roc_auc_score, precision_recall_curve, average_precision_score\n",
    "\n",
    "import plotly.graph_objects as go\n",
    "from plotly.subplots import make_subplots\n",
    "\n",
    "from sklearn.utils import class_weight\n",
    "\n",
    "from tensorflow.keras.preprocessing.text import Tokenizer\n",
    "from tensorflow.keras.preprocessing.sequence import pad_sequences\n",
    "from tensorflow.keras.models import Sequential\n",
    "from tensorflow.keras.layers import Embedding, LSTM, Dense, Bidirectional, Dropout\n",
    "from tensorflow.keras.callbacks import EarlyStopping\n",
    "\n",
    "import matplotlib.pyplot as plt\n",
    "import seaborn as sns\n",
    "\n",
    "nltk.download('vader_lexicon')\n",
    "nltk.download('stopwords')\n",
    "nltk.download('wordnet')"
   ]
  },
  {
   "cell_type": "markdown",
   "id": "b13ba2ac",
   "metadata": {},
   "source": [
    "## Metodologia"
   ]
  },
  {
   "cell_type": "markdown",
   "id": "2e6f4a9d",
   "metadata": {},
   "source": [
    "### Preparação do Dataframe\n",
    "\n",
    "A etapa de preparação de dados visa consolidar informações relacionadas aos conflitos entre Rússia e Ucrânia, assim como Israel e Palestina. Os arquivos 'ukr_rus_reddit_comments.csv' e 'isr_pse_reddit_comments.csv' são utilizados para obter comentários relacionados a Rússia x Ucrânia e Israel x Palestina, respectivamente.\n",
    "\n",
    "O processo essencial resulta na criação do DataFrame `conflict_war_df`, uma união coerente dos DataFrames rus_ukr_df e isr_pse_df. Essa consolidação é fundamental para análises subsequentes, fornecendo uma representação organizada e unificada dos dados cruciais para o projeto.\n",
    "\n",
    "O DataFrame resultante, `conflict_war_df`, inclui as colunas `post_id`, `comments`, e `conflict`, estabelecendo a base unificada para análises posteriores."
   ]
  },
  {
   "cell_type": "code",
   "execution_count": 3,
   "id": "2355c3bf",
   "metadata": {},
   "outputs": [
    {
     "data": {
      "text/html": [
       "<div>\n",
       "<style scoped>\n",
       "    .dataframe tbody tr th:only-of-type {\n",
       "        vertical-align: middle;\n",
       "    }\n",
       "\n",
       "    .dataframe tbody tr th {\n",
       "        vertical-align: top;\n",
       "    }\n",
       "\n",
       "    .dataframe thead th {\n",
       "        text-align: right;\n",
       "    }\n",
       "</style>\n",
       "<table border=\"1\" class=\"dataframe\">\n",
       "  <thead>\n",
       "    <tr style=\"text-align: right;\">\n",
       "      <th></th>\n",
       "      <th>post_id</th>\n",
       "      <th>comments</th>\n",
       "      <th>conflict</th>\n",
       "    </tr>\n",
       "  </thead>\n",
       "  <tbody>\n",
       "    <tr>\n",
       "      <th>0</th>\n",
       "      <td>vlvgj4</td>\n",
       "      <td>Hello /u/hjgbuijhgh,\\n\\nThis community is focu...</td>\n",
       "      <td>russia_ukraine</td>\n",
       "    </tr>\n",
       "    <tr>\n",
       "      <th>1</th>\n",
       "      <td>vlvgj4</td>\n",
       "      <td>uhm thats quite the increase.  \\n\\n\\nI also he...</td>\n",
       "      <td>russia_ukraine</td>\n",
       "    </tr>\n",
       "    <tr>\n",
       "      <th>2</th>\n",
       "      <td>vlvgj4</td>\n",
       "      <td>Poland also announced that they plan to double...</td>\n",
       "      <td>russia_ukraine</td>\n",
       "    </tr>\n",
       "    <tr>\n",
       "      <th>3</th>\n",
       "      <td>vlvgj4</td>\n",
       "      <td>Remember, NATO knows more than we’re being tol...</td>\n",
       "      <td>russia_ukraine</td>\n",
       "    </tr>\n",
       "    <tr>\n",
       "      <th>4</th>\n",
       "      <td>vlvgj4</td>\n",
       "      <td>Well done, Putin. Top 2022 salesman of NATO. \\...</td>\n",
       "      <td>russia_ukraine</td>\n",
       "    </tr>\n",
       "  </tbody>\n",
       "</table>\n",
       "</div>"
      ],
      "text/plain": [
       "  post_id                                           comments        conflict\n",
       "0  vlvgj4  Hello /u/hjgbuijhgh,\\n\\nThis community is focu...  russia_ukraine\n",
       "1  vlvgj4  uhm thats quite the increase.  \\n\\n\\nI also he...  russia_ukraine\n",
       "2  vlvgj4  Poland also announced that they plan to double...  russia_ukraine\n",
       "3  vlvgj4  Remember, NATO knows more than we’re being tol...  russia_ukraine\n",
       "4  vlvgj4  Well done, Putin. Top 2022 salesman of NATO. \\...  russia_ukraine"
      ]
     },
     "execution_count": 3,
     "metadata": {},
     "output_type": "execute_result"
    }
   ],
   "source": [
    "file_path = 'ukr_rus_reddit_comments.csv'\n",
    "rus_ukr_df = pd.read_csv(file_path)\n",
    "\n",
    "rus_ukr_df['conflict'] = 'russia_ukraine'\n",
    "rus_ukr_df = rus_ukr_df[['post_id', 'comments', 'conflict']]\n",
    "\n",
    "rus_ukr_df.head()"
   ]
  },
  {
   "cell_type": "code",
   "execution_count": 4,
   "id": "b6d7a6a2",
   "metadata": {},
   "outputs": [
    {
     "data": {
      "text/html": [
       "<div>\n",
       "<style scoped>\n",
       "    .dataframe tbody tr th:only-of-type {\n",
       "        vertical-align: middle;\n",
       "    }\n",
       "\n",
       "    .dataframe tbody tr th {\n",
       "        vertical-align: top;\n",
       "    }\n",
       "\n",
       "    .dataframe thead th {\n",
       "        text-align: right;\n",
       "    }\n",
       "</style>\n",
       "<table border=\"1\" class=\"dataframe\">\n",
       "  <thead>\n",
       "    <tr style=\"text-align: right;\">\n",
       "      <th></th>\n",
       "      <th>post_id</th>\n",
       "      <th>comments</th>\n",
       "      <th>conflict</th>\n",
       "    </tr>\n",
       "  </thead>\n",
       "  <tbody>\n",
       "    <tr>\n",
       "      <th>204263</th>\n",
       "      <td>k5ds4d6</td>\n",
       "      <td>Hamas is close with Iran, who is close with bo...</td>\n",
       "      <td>israel_palestine</td>\n",
       "    </tr>\n",
       "    <tr>\n",
       "      <th>97850</th>\n",
       "      <td>k67mfob</td>\n",
       "      <td>A single AEGIS ship is pretty much the best ai...</td>\n",
       "      <td>israel_palestine</td>\n",
       "    </tr>\n",
       "    <tr>\n",
       "      <th>195906</th>\n",
       "      <td>k5fqjs9</td>\n",
       "      <td>I don't think many people look back through hi...</td>\n",
       "      <td>israel_palestine</td>\n",
       "    </tr>\n",
       "    <tr>\n",
       "      <th>201531</th>\n",
       "      <td>k5e74r0</td>\n",
       "      <td>I don’t get free land in Europe because ancien...</td>\n",
       "      <td>israel_palestine</td>\n",
       "    </tr>\n",
       "    <tr>\n",
       "      <th>273758</th>\n",
       "      <td>k4xk4u2</td>\n",
       "      <td>To download the video you can use one of the f...</td>\n",
       "      <td>israel_palestine</td>\n",
       "    </tr>\n",
       "  </tbody>\n",
       "</table>\n",
       "</div>"
      ],
      "text/plain": [
       "        post_id                                           comments  \\\n",
       "204263  k5ds4d6  Hamas is close with Iran, who is close with bo...   \n",
       "97850   k67mfob  A single AEGIS ship is pretty much the best ai...   \n",
       "195906  k5fqjs9  I don't think many people look back through hi...   \n",
       "201531  k5e74r0  I don’t get free land in Europe because ancien...   \n",
       "273758  k4xk4u2  To download the video you can use one of the f...   \n",
       "\n",
       "                conflict  \n",
       "204263  israel_palestine  \n",
       "97850   israel_palestine  \n",
       "195906  israel_palestine  \n",
       "201531  israel_palestine  \n",
       "273758  israel_palestine  "
      ]
     },
     "execution_count": 4,
     "metadata": {},
     "output_type": "execute_result"
    }
   ],
   "source": [
    "file_path = 'isr_pse_reddit_comments.csv'\n",
    "isr_pse_df = pd.read_csv(file_path)\n",
    "\n",
    "isr_pse_df = isr_pse_df.rename(columns={'comment_id': 'post_id', 'self_text': 'comments'})\n",
    "isr_pse_df['conflict'] = 'israel_palestine'\n",
    "isr_pse_df = isr_pse_df[['post_id', 'comments', 'conflict']]\n",
    "\n",
    "isr_pse_df = isr_pse_df.sample(n=100000)\n",
    "isr_pse_df.head()"
   ]
  },
  {
   "cell_type": "code",
   "execution_count": 5,
   "id": "becccbb4",
   "metadata": {},
   "outputs": [
    {
     "data": {
      "text/html": [
       "<div>\n",
       "<style scoped>\n",
       "    .dataframe tbody tr th:only-of-type {\n",
       "        vertical-align: middle;\n",
       "    }\n",
       "\n",
       "    .dataframe tbody tr th {\n",
       "        vertical-align: top;\n",
       "    }\n",
       "\n",
       "    .dataframe thead th {\n",
       "        text-align: right;\n",
       "    }\n",
       "</style>\n",
       "<table border=\"1\" class=\"dataframe\">\n",
       "  <thead>\n",
       "    <tr style=\"text-align: right;\">\n",
       "      <th></th>\n",
       "      <th>post_id</th>\n",
       "      <th>comments</th>\n",
       "      <th>conflict</th>\n",
       "    </tr>\n",
       "  </thead>\n",
       "  <tbody>\n",
       "    <tr>\n",
       "      <th>0</th>\n",
       "      <td>vlvgj4</td>\n",
       "      <td>Hello /u/hjgbuijhgh,\\n\\nThis community is focu...</td>\n",
       "      <td>russia_ukraine</td>\n",
       "    </tr>\n",
       "    <tr>\n",
       "      <th>1</th>\n",
       "      <td>vlvgj4</td>\n",
       "      <td>uhm thats quite the increase.  \\n\\n\\nI also he...</td>\n",
       "      <td>russia_ukraine</td>\n",
       "    </tr>\n",
       "    <tr>\n",
       "      <th>1</th>\n",
       "      <td>k70vk4r</td>\n",
       "      <td>Translation:\\n\\nAmen. Kill jews and continue g...</td>\n",
       "      <td>israel_palestine</td>\n",
       "    </tr>\n",
       "    <tr>\n",
       "      <th>2</th>\n",
       "      <td>k70vhew</td>\n",
       "      <td>Friendly fact reminder: Israel has been steali...</td>\n",
       "      <td>israel_palestine</td>\n",
       "    </tr>\n",
       "    <tr>\n",
       "      <th>2</th>\n",
       "      <td>vlvgj4</td>\n",
       "      <td>Poland also announced that they plan to double...</td>\n",
       "      <td>russia_ukraine</td>\n",
       "    </tr>\n",
       "  </tbody>\n",
       "</table>\n",
       "</div>"
      ],
      "text/plain": [
       "   post_id                                           comments  \\\n",
       "0   vlvgj4  Hello /u/hjgbuijhgh,\\n\\nThis community is focu...   \n",
       "1   vlvgj4  uhm thats quite the increase.  \\n\\n\\nI also he...   \n",
       "1  k70vk4r  Translation:\\n\\nAmen. Kill jews and continue g...   \n",
       "2  k70vhew  Friendly fact reminder: Israel has been steali...   \n",
       "2   vlvgj4  Poland also announced that they plan to double...   \n",
       "\n",
       "           conflict  \n",
       "0    russia_ukraine  \n",
       "1    russia_ukraine  \n",
       "1  israel_palestine  \n",
       "2  israel_palestine  \n",
       "2    russia_ukraine  "
      ]
     },
     "execution_count": 5,
     "metadata": {},
     "output_type": "execute_result"
    }
   ],
   "source": [
    "conflict_war_df = pd.concat([isr_pse_df, rus_ukr_df]).sort_index(level=1)\n",
    "conflict_war_df.head()"
   ]
  },
  {
   "cell_type": "markdown",
   "id": "7dcb02e9",
   "metadata": {},
   "source": [
    "### Pré-Processamento dos Comentários\n",
    "\n",
    "Antes da análise de sentimentos, é essencial pré-processar os textos dos comentários com as seguintes etapas:\n",
    "\n",
    "1. **Remoção de Pontuações e Caracteres Especiais:** Eliminação de elementos não alfanuméricos.\n",
    "2. **Tokenização e Conversão para Minúsculas:** Divisão dos comentários em palavras e conversão para minúsculas.\n",
    "3. **Remoção de Stopwords:** Exclusão de palavras comuns sem significado contextual.\n",
    "4. **Lemmatização:** Redução de palavras à sua forma base.\n",
    "5. **Reconstrução do Texto Pré-Processado:** Unificação dos tokens para formar o texto final.\n",
    "\n",
    "Essas etapas garantem que os comentários estejam prontos para análise, facilitando a eficácia do modelo de aprendizado subsequente. O DataFrame resultante, `conflict_war_df`, reflete os comentários após o pré-processamento, preparando-os para análises mais aprofundadas."
   ]
  },
  {
   "cell_type": "code",
   "execution_count": 6,
   "id": "d6684753",
   "metadata": {},
   "outputs": [
    {
     "data": {
      "application/vnd.jupyter.widget-view+json": {
       "model_id": "b1940c156ddb49528ea7c09f4fabdf89",
       "version_major": 2,
       "version_minor": 0
      },
      "text/plain": [
       "Pré-Processando os comentários:   0%|          | 0/116707 [00:00<?, ?it/s]"
      ]
     },
     "metadata": {},
     "output_type": "display_data"
    },
    {
     "data": {
      "text/html": [
       "<div>\n",
       "<style scoped>\n",
       "    .dataframe tbody tr th:only-of-type {\n",
       "        vertical-align: middle;\n",
       "    }\n",
       "\n",
       "    .dataframe tbody tr th {\n",
       "        vertical-align: top;\n",
       "    }\n",
       "\n",
       "    .dataframe thead th {\n",
       "        text-align: right;\n",
       "    }\n",
       "</style>\n",
       "<table border=\"1\" class=\"dataframe\">\n",
       "  <thead>\n",
       "    <tr style=\"text-align: right;\">\n",
       "      <th></th>\n",
       "      <th>post_id</th>\n",
       "      <th>comments</th>\n",
       "      <th>conflict</th>\n",
       "    </tr>\n",
       "  </thead>\n",
       "  <tbody>\n",
       "    <tr>\n",
       "      <th>0</th>\n",
       "      <td>vlvgj4</td>\n",
       "      <td>hello uhjgbuijhgh community focused important ...</td>\n",
       "      <td>russia_ukraine</td>\n",
       "    </tr>\n",
       "    <tr>\n",
       "      <th>1</th>\n",
       "      <td>vlvgj4</td>\n",
       "      <td>uhm thats quite increase also heared recently ...</td>\n",
       "      <td>russia_ukraine</td>\n",
       "    </tr>\n",
       "    <tr>\n",
       "      <th>1</th>\n",
       "      <td>k70vk4r</td>\n",
       "      <td>translation amen kill jew continue gazan oppre...</td>\n",
       "      <td>israel_palestine</td>\n",
       "    </tr>\n",
       "    <tr>\n",
       "      <th>2</th>\n",
       "      <td>k70vhew</td>\n",
       "      <td>friendly fact reminder israel stealing palesti...</td>\n",
       "      <td>israel_palestine</td>\n",
       "    </tr>\n",
       "    <tr>\n",
       "      <th>2</th>\n",
       "      <td>vlvgj4</td>\n",
       "      <td>poland also announced plan double armed force ...</td>\n",
       "      <td>russia_ukraine</td>\n",
       "    </tr>\n",
       "  </tbody>\n",
       "</table>\n",
       "</div>"
      ],
      "text/plain": [
       "   post_id                                           comments  \\\n",
       "0   vlvgj4  hello uhjgbuijhgh community focused important ...   \n",
       "1   vlvgj4  uhm thats quite increase also heared recently ...   \n",
       "1  k70vk4r  translation amen kill jew continue gazan oppre...   \n",
       "2  k70vhew  friendly fact reminder israel stealing palesti...   \n",
       "2   vlvgj4  poland also announced plan double armed force ...   \n",
       "\n",
       "           conflict  \n",
       "0    russia_ukraine  \n",
       "1    russia_ukraine  \n",
       "1  israel_palestine  \n",
       "2  israel_palestine  \n",
       "2    russia_ukraine  "
      ]
     },
     "execution_count": 6,
     "metadata": {},
     "output_type": "execute_result"
    }
   ],
   "source": [
    "# Inicializar o lematizador\n",
    "lemmatizer = WordNetLemmatizer()\n",
    "\n",
    "# Função de pré-processamento\n",
    "def preprocess_text(text):\n",
    "    # Remover pontuações e caracteres especiais\n",
    "    text = re.sub(r'[^\\w\\s]', '', text)\n",
    "    \n",
    "    # Tokenização e conversão para minúsculas\n",
    "    tokens = text.lower().split()\n",
    "    \n",
    "    # Remoção de stopwords\n",
    "    stop_words = set(stopwords.words('english'))\n",
    "    tokens = [word for word in tokens if word not in stop_words]\n",
    "    \n",
    "    # Lemmatização\n",
    "    tokens = [lemmatizer.lemmatize(word) for word in tokens]\n",
    "    \n",
    "    # Reconstruir o texto pré-processado\n",
    "    processed_text = ' '.join(tokens)\n",
    "    \n",
    "    return processed_text\n",
    "\n",
    "# Aplicar a função à coluna 'comments'\n",
    "tqdm.pandas(desc='Pré-Processando os comentários')\n",
    "conflict_war_df['comments'] = conflict_war_df['comments'].progress_apply(preprocess_text)\n",
    "\n",
    "conflict_war_df.head()"
   ]
  },
  {
   "cell_type": "markdown",
   "id": "10fa51c6",
   "metadata": {},
   "source": [
    "### Análise de Sentimento\n",
    "\n",
    "Utilizaremos a biblioteca NLTK para realizar a análise de sentimento nos comentários. Os comentários serão classificados como favoráveis à guerra, contrários à guerra ou neutros com base em escores de sentimento. O processo segue estas etapas:\n",
    "\n",
    "1. **Criação do Analisador de Sentimentos:**\n",
    "   - `sia = SentimentIntensityAnalyzer()`: Inicializa o analisador de sentimentos, uma ferramenta do NLTK.\n",
    "\n",
    "2. **Função de Classificação de Sentimento:**\n",
    "   - Define uma função `classify_sentiment(comment)` que atribui uma categoria ('war_support', 'war_opposite', ou 'neutral') com base no escore de sentimento composto.\n",
    "\n",
    "3. **Aplicação da Função aos Comentários:**\n",
    "   - `tqdm.pandas(desc='Classificando sentimentos')`: Utiliza a barra de progresso para acompanhar a aplicação da função.\n",
    "   - `conflict_war_df['sentiment'] = tqdm(conflict_war_df['comments'].progress_apply(classify_sentiment))`: Aplica a função aos comentários, atribuindo a classificação de sentimentos à nova coluna 'sentiment'.\n",
    "\n",
    "4. **Exibição do DataFrame Resultante:**\n",
    "   - `conflict_war_df.head()`: Apresenta as primeiras linhas do DataFrame resultante, agora incluindo a classificação de sentimentos na coluna 'sentiment'.\n",
    "\n",
    "Essas etapas oferecem uma categorização eficaz dos comentários em 'war_support', 'war_opposite' ou 'neutral', baseada nos escores de sentimento calculados. O DataFrame resultante, `conflict_war_df`, reflete a análise de sentimentos aplicada aos discursos sobre os conflitos, fornecendo insights sobre as posições expressas."
   ]
  },
  {
   "cell_type": "code",
   "execution_count": 7,
   "id": "35f5e50c",
   "metadata": {},
   "outputs": [
    {
     "data": {
      "application/vnd.jupyter.widget-view+json": {
       "model_id": "d07fadc4787f43e3910707b634d9198f",
       "version_major": 2,
       "version_minor": 0
      },
      "text/plain": [
       "Classificando sentimentos:   0%|          | 0/116707 [00:00<?, ?it/s]"
      ]
     },
     "metadata": {},
     "output_type": "display_data"
    },
    {
     "data": {
      "application/vnd.jupyter.widget-view+json": {
       "model_id": "57f5d910a0f745689eeea4b46659fc8c",
       "version_major": 2,
       "version_minor": 0
      },
      "text/plain": [
       "  0%|          | 0/116707 [00:00<?, ?it/s]"
      ]
     },
     "metadata": {},
     "output_type": "display_data"
    },
    {
     "data": {
      "text/html": [
       "<div>\n",
       "<style scoped>\n",
       "    .dataframe tbody tr th:only-of-type {\n",
       "        vertical-align: middle;\n",
       "    }\n",
       "\n",
       "    .dataframe tbody tr th {\n",
       "        vertical-align: top;\n",
       "    }\n",
       "\n",
       "    .dataframe thead th {\n",
       "        text-align: right;\n",
       "    }\n",
       "</style>\n",
       "<table border=\"1\" class=\"dataframe\">\n",
       "  <thead>\n",
       "    <tr style=\"text-align: right;\">\n",
       "      <th></th>\n",
       "      <th>post_id</th>\n",
       "      <th>comments</th>\n",
       "      <th>conflict</th>\n",
       "      <th>sentiment</th>\n",
       "    </tr>\n",
       "  </thead>\n",
       "  <tbody>\n",
       "    <tr>\n",
       "      <th>0</th>\n",
       "      <td>vlvgj4</td>\n",
       "      <td>hello uhjgbuijhgh community focused important ...</td>\n",
       "      <td>russia_ukraine</td>\n",
       "      <td>war_support</td>\n",
       "    </tr>\n",
       "    <tr>\n",
       "      <th>1</th>\n",
       "      <td>vlvgj4</td>\n",
       "      <td>uhm thats quite increase also heared recently ...</td>\n",
       "      <td>russia_ukraine</td>\n",
       "      <td>neutral</td>\n",
       "    </tr>\n",
       "    <tr>\n",
       "      <th>1</th>\n",
       "      <td>k70vk4r</td>\n",
       "      <td>translation amen kill jew continue gazan oppre...</td>\n",
       "      <td>israel_palestine</td>\n",
       "      <td>war_opposite</td>\n",
       "    </tr>\n",
       "    <tr>\n",
       "      <th>2</th>\n",
       "      <td>k70vhew</td>\n",
       "      <td>friendly fact reminder israel stealing palesti...</td>\n",
       "      <td>israel_palestine</td>\n",
       "      <td>war_opposite</td>\n",
       "    </tr>\n",
       "    <tr>\n",
       "      <th>2</th>\n",
       "      <td>vlvgj4</td>\n",
       "      <td>poland also announced plan double armed force ...</td>\n",
       "      <td>russia_ukraine</td>\n",
       "      <td>war_support</td>\n",
       "    </tr>\n",
       "  </tbody>\n",
       "</table>\n",
       "</div>"
      ],
      "text/plain": [
       "   post_id                                           comments  \\\n",
       "0   vlvgj4  hello uhjgbuijhgh community focused important ...   \n",
       "1   vlvgj4  uhm thats quite increase also heared recently ...   \n",
       "1  k70vk4r  translation amen kill jew continue gazan oppre...   \n",
       "2  k70vhew  friendly fact reminder israel stealing palesti...   \n",
       "2   vlvgj4  poland also announced plan double armed force ...   \n",
       "\n",
       "           conflict     sentiment  \n",
       "0    russia_ukraine   war_support  \n",
       "1    russia_ukraine       neutral  \n",
       "1  israel_palestine  war_opposite  \n",
       "2  israel_palestine  war_opposite  \n",
       "2    russia_ukraine   war_support  "
      ]
     },
     "execution_count": 7,
     "metadata": {},
     "output_type": "execute_result"
    }
   ],
   "source": [
    "sia = SentimentIntensityAnalyzer()\n",
    "\n",
    "# Função para classificar o sentimento\n",
    "def classify_sentiment(comment):\n",
    "    sentiment_score = sia.polarity_scores(comment)['compound']\n",
    "    \n",
    "    if sentiment_score > 0.05:\n",
    "        return 'war_support'\n",
    "    elif sentiment_score < -0.05:\n",
    "        return 'war_opposite'\n",
    "    else:\n",
    "        return 'neutral'\n",
    "\n",
    "# Aplicar a função à coluna 'comments'\n",
    "tqdm.pandas(desc='Classificando sentimentos')\n",
    "conflict_war_df['sentiment'] = conflict_war_df['comments'].progress_apply(classify_sentiment)\n",
    "\n",
    "conflict_war_df.head()"
   ]
  },
  {
   "cell_type": "markdown",
   "id": "bd58ad1b",
   "metadata": {},
   "source": [
    "### Preparação dos Dados para o Modelo\n",
    "\n",
    "Nesta etapa, realizamos operações essenciais:\n",
    "\n",
    "- **Codificação das Classes:** Utilização do `LabelEncoder` para converter classes de conflito em valores numéricos.\n",
    "- **Divisão em Treino e Teste:** Separação do conjunto de dados para treino e teste.\n",
    "- **Tokenização:** Uso do `Tokenizer` para converter textos em sequências de tokens.\n",
    "- **Sequências de Tokens:** Geração de sequências numéricas representando os textos.\n",
    "- **Preenchimento das Sequências:** Padronização do comprimento das sequências para entrada no modelo.\n",
    "\n",
    "Essas etapas preparam os dados para o treinamento, garantindo uma representação numérica adequada dos textos e a divisão apropriada entre conjuntos de treino e teste."
   ]
  },
  {
   "cell_type": "code",
   "execution_count": 8,
   "id": "2bc2b5b6",
   "metadata": {},
   "outputs": [],
   "source": [
    "# Pré-processamento\n",
    "le = LabelEncoder()\n",
    "conflict_war_df['label'] = le.fit_transform(conflict_war_df['conflict'])\n",
    "\n",
    "# Divisão em treino e teste\n",
    "X_train, X_test, y_train, y_test = train_test_split(conflict_war_df['comments'], conflict_war_df['label'], test_size=0.2, random_state=42)\n",
    "\n",
    "# Tokenização\n",
    "tokenizer = Tokenizer()\n",
    "tokenizer.fit_on_texts(X_train)\n",
    "\n",
    "X_train_seq = tokenizer.texts_to_sequences(X_train)\n",
    "X_test_seq = tokenizer.texts_to_sequences(X_test)\n",
    "\n",
    "vocab_size = len(tokenizer.word_index) + 1\n",
    "\n",
    "# Preenchimento das sequências\n",
    "X_train_padded = pad_sequences(X_train_seq, maxlen=50, padding='post')\n",
    "X_test_padded = pad_sequences(X_test_seq, maxlen=50, padding='post')"
   ]
  },
  {
   "cell_type": "markdown",
   "id": "9ec21a95",
   "metadata": {},
   "source": [
    "### Treinamento do Modelo\n",
    "\n",
    "Construiremos um modelo de aprendizado profundo utilizando uma camada de embedding seguida por uma camada bidirecional LSTM e uma camada densa para a classificação binária. O modelo será treinado com dados balanceados em termos de peso de classe. Nesta etapa, configuramos e treinamos o modelo com as seguintes operações principais:\n",
    "\n",
    "- **Balanço de Pesos de Classe:**\n",
    "  Calculamos os pesos das classes para lidar com desequilíbrios durante o treinamento.\n",
    "\n",
    "- **Construção do Modelo:**\n",
    "  Definimos um modelo sequencial com camada de embedding, LSTM bidirecional e camada densa para classificação binária, utilizando a função de ativação 'sigmoid' na camada de saída.\n",
    "  \n",
    "- **Treinamento do Modelo:**\n",
    "   O modelo foi treinado com sucesso por 5 épocas, utilizando estratégia de parada antecipada para evitar overfitting. \n",
    "Essas etapas estabelecem a arquitetura do modelo e garantem uma abordagem equilibrada ao treinar com dados ponderados corretamente."
   ]
  },
  {
   "cell_type": "code",
   "execution_count": 9,
   "id": "bc40a630",
   "metadata": {},
   "outputs": [
    {
     "name": "stderr",
     "output_type": "stream",
     "text": [
      "2023-12-14 02:55:16.791629: E external/local_xla/xla/stream_executor/cuda/cuda_driver.cc:274] failed call to cuInit: CUDA_ERROR_NO_DEVICE: no CUDA-capable device is detected\n"
     ]
    }
   ],
   "source": [
    "# Balanço de pesos de classe\n",
    "class_weights = class_weight.compute_class_weight('balanced', classes=np.unique(y_train), y=y_train)\n",
    "class_weights_dict = dict(enumerate(class_weights))\n",
    "\n",
    "# Construção do modelo\n",
    "model = Sequential()\n",
    "model.add(Embedding(input_dim=vocab_size, output_dim=100, input_length=50))\n",
    "model.add(Bidirectional(LSTM(64)))\n",
    "model.add(Dense(1, activation='sigmoid'))\n",
    "\n",
    "model.compile(optimizer='adam', loss='binary_crossentropy', metrics=['accuracy'])"
   ]
  },
  {
   "cell_type": "code",
   "execution_count": 10,
   "id": "103b3a3b",
   "metadata": {},
   "outputs": [
    {
     "name": "stdout",
     "output_type": "stream",
     "text": [
      "Epoch 1/5\n",
      "2335/2335 [==============================] - 125s 53ms/step - loss: 0.3823 - accuracy: 0.7858 - val_loss: 0.3484 - val_accuracy: 0.8261\n",
      "Epoch 2/5\n",
      "2335/2335 [==============================] - 119s 51ms/step - loss: 0.2572 - accuracy: 0.8791 - val_loss: 0.3100 - val_accuracy: 0.8505\n",
      "Epoch 3/5\n",
      "2335/2335 [==============================] - 117s 50ms/step - loss: 0.1887 - accuracy: 0.9141 - val_loss: 0.3398 - val_accuracy: 0.8563\n",
      "Epoch 4/5\n",
      "2335/2335 [==============================] - 117s 50ms/step - loss: 0.1426 - accuracy: 0.9320 - val_loss: 0.4034 - val_accuracy: 0.8346\n",
      "Epoch 5/5\n",
      "2335/2335 [==============================] - 117s 50ms/step - loss: 0.1091 - accuracy: 0.9460 - val_loss: 0.4646 - val_accuracy: 0.8398\n"
     ]
    },
    {
     "data": {
      "text/plain": [
       "<keras.src.callbacks.History at 0x7fb9d3e680d0>"
      ]
     },
     "execution_count": 10,
     "metadata": {},
     "output_type": "execute_result"
    }
   ],
   "source": [
    "# Treinamento do modelo\n",
    "early_stopping = EarlyStopping(monitor='val_loss', patience=3, restore_best_weights=True)\n",
    "model.fit(\n",
    "    X_train_padded,\n",
    "    y_train,\n",
    "    epochs=5,\n",
    "    validation_split=0.2,\n",
    "    callbacks=[early_stopping],\n",
    "    class_weight=class_weights_dict\n",
    ")"
   ]
  },
  {
   "cell_type": "code",
   "execution_count": 11,
   "id": "f2df67ca",
   "metadata": {},
   "outputs": [
    {
     "name": "stdout",
     "output_type": "stream",
     "text": [
      "730/730 [==============================] - 4s 5ms/step\n"
     ]
    }
   ],
   "source": [
    "# Avaliação do modelo\n",
    "y_pred_probs = model.predict(X_test_padded)\n",
    "y_pred = (y_pred_probs > 0.5).astype(int)"
   ]
  },
  {
   "cell_type": "markdown",
   "id": "795387d2",
   "metadata": {},
   "source": [
    "## Resultados\n",
    "\n",
    "Após treinar o modelo, avaliaremos sua performance utilizando dados de teste, onde aplicamos métricas de avaliação para destacar os principais resultados:\n",
    "\n",
    "- **Contagem de Sentimentos:**\n",
    "   - Visualização de barra mostrando a distribuição de sentimentos ('war_support', 'war_opposite', 'neutral') nos comentários.\n",
    "- **Distribuição de Sentimentos por Conflito:**\n",
    "   - Gráfico de barras agrupado por conflito (israel_palestine e russia_ukraine).\n",
    "   - Exibe a distribuição de sentimentos em cada contexto.\n",
    "- **Métricas de Avaliação por Classe:**\n",
    "   - Tabela e gráfico de barras com métricas de avaliação (precisão, recall, pontuação F1) para cada classe.\n",
    "   - Oferece insights sobre o desempenho do modelo em diferentes categorias.\n",
    "- **Matriz de Confusão:**\n",
    "   - Ilustra como as previsões do modelo correspondem às classes reais.\n",
    "- **Curva ROC (Receiver Operating Characteristic) e AUC:**\n",
    "   - Avaliação do desempenho em diferentes limiares de classificação.\n",
    "- **Curva Precision-Recall:**\n",
    "   - Destaca a precisão em relação à revocação em diversos pontos de corte.\n",
    "   \n",
    "Esses resultados proporcionam uma visão abrangente do desempenho do modelo e da distribuição de sentimentos nos dados analisados."
   ]
  },
  {
   "cell_type": "code",
   "execution_count": 12,
   "id": "6ed4e893",
   "metadata": {},
   "outputs": [
    {
     "data": {
      "image/png": "[encoded data removed]",
      "text/plain": [
       "<Figure size 800x500 with 1 Axes>"
      ]
     },
     "metadata": {},
     "output_type": "display_data"
    }
   ],
   "source": [
    "# Contagem de sentimentos\n",
    "sentiment_counts = conflict_war_df['sentiment'].value_counts()\n",
    "\n",
    "# Gráfico de barras\n",
    "plt.figure(figsize=(8, 5))\n",
    "sns.barplot(x=sentiment_counts.index, y=sentiment_counts.values, palette=\"viridis\")\n",
    "plt.title('Análise de Sentimentos')\n",
    "plt.xlabel('Sentimento')\n",
    "plt.ylabel('Quantidade de Registros')\n",
    "plt.show()"
   ]
  },
  {
   "cell_type": "code",
   "execution_count": 13,
   "id": "cfc87e81",
   "metadata": {},
   "outputs": [
    {
     "data": {
      "text/plain": [
       "war_opposite    51340\n",
       "war_support     40003\n",
       "neutral         25364\n",
       "Name: sentiment, dtype: int64"
      ]
     },
     "execution_count": 13,
     "metadata": {},
     "output_type": "execute_result"
    }
   ],
   "source": [
    "sentiment_counts"
   ]
  },
  {
   "cell_type": "code",
   "execution_count": 14,
   "id": "569e4c5c",
   "metadata": {},
   "outputs": [
    {
     "data": {
      "image/png": "[encoded data removed]",
      "text/plain": [
       "<Figure size 1200x600 with 1 Axes>"
      ]
     },
     "metadata": {},
     "output_type": "display_data"
    }
   ],
   "source": [
    "# Gráfico de barras de sentimentos por conflito\n",
    "plt.figure(figsize=(12, 6))\n",
    "sns.countplot(x='conflict', hue='sentiment', data=conflict_war_df, palette=\"viridis\")\n",
    "plt.title('Distribuição de Sentimentos por Conflito')\n",
    "plt.xlabel('Conflito')\n",
    "plt.ylabel('Quantidade de Registros')\n",
    "plt.legend(title='Sentimento')\n",
    "plt.show()"
   ]
  },
  {
   "cell_type": "code",
   "execution_count": 15,
   "id": "1786bef9",
   "metadata": {},
   "outputs": [
    {
     "data": {
      "image/png": "[encoded data removed]",
      "text/plain": [
       "<Figure size 1000x600 with 1 Axes>"
      ]
     },
     "metadata": {},
     "output_type": "display_data"
    }
   ],
   "source": [
    "classification_rep = classification_report(y_test, y_pred, target_names=conflict_war_df['conflict'].unique(), output_dict=True)\n",
    "\n",
    "classification_df = pd.DataFrame(classification_rep).transpose()\n",
    "\n",
    "# Extrair as métricas relevantes\n",
    "metrics_df = classification_df[['precision', 'recall', 'f1-score']]\n",
    "\n",
    "# Plotar um gráfico de barras\n",
    "metrics_df.plot(kind='bar', figsize=(10, 6))\n",
    "plt.title('Métricas de Avaliação por Classe')\n",
    "plt.ylabel('Valor')\n",
    "plt.xlabel('Classe')\n",
    "plt.xticks(rotation=45)\n",
    "plt.legend(loc='lower right')\n",
    "plt.show()"
   ]
  },
  {
   "cell_type": "code",
   "execution_count": 23,
   "id": "086c9b7b",
   "metadata": {},
   "outputs": [
    {
     "data": {
      "text/html": [
       "<div>\n",
       "<style scoped>\n",
       "    .dataframe tbody tr th:only-of-type {\n",
       "        vertical-align: middle;\n",
       "    }\n",
       "\n",
       "    .dataframe tbody tr th {\n",
       "        vertical-align: top;\n",
       "    }\n",
       "\n",
       "    .dataframe thead th {\n",
       "        text-align: right;\n",
       "    }\n",
       "</style>\n",
       "<table border=\"1\" class=\"dataframe\">\n",
       "  <thead>\n",
       "    <tr style=\"text-align: right;\">\n",
       "      <th></th>\n",
       "      <th>precision</th>\n",
       "      <th>recall</th>\n",
       "      <th>f1-score</th>\n",
       "      <th>support</th>\n",
       "    </tr>\n",
       "  </thead>\n",
       "  <tbody>\n",
       "    <tr>\n",
       "      <th>russia_ukraine</th>\n",
       "      <td>0.956066</td>\n",
       "      <td>0.876597</td>\n",
       "      <td>0.914608</td>\n",
       "      <td>19959.000000</td>\n",
       "    </tr>\n",
       "    <tr>\n",
       "      <th>israel_palestine</th>\n",
       "      <td>0.511503</td>\n",
       "      <td>0.762341</td>\n",
       "      <td>0.612226</td>\n",
       "      <td>3383.000000</td>\n",
       "    </tr>\n",
       "    <tr>\n",
       "      <th>accuracy</th>\n",
       "      <td>0.860038</td>\n",
       "      <td>0.860038</td>\n",
       "      <td>0.860038</td>\n",
       "      <td>0.860038</td>\n",
       "    </tr>\n",
       "    <tr>\n",
       "      <th>macro avg</th>\n",
       "      <td>0.733784</td>\n",
       "      <td>0.819469</td>\n",
       "      <td>0.763417</td>\n",
       "      <td>23342.000000</td>\n",
       "    </tr>\n",
       "    <tr>\n",
       "      <th>weighted avg</th>\n",
       "      <td>0.891634</td>\n",
       "      <td>0.860038</td>\n",
       "      <td>0.870783</td>\n",
       "      <td>23342.000000</td>\n",
       "    </tr>\n",
       "  </tbody>\n",
       "</table>\n",
       "</div>"
      ],
      "text/plain": [
       "                  precision    recall  f1-score       support\n",
       "russia_ukraine     0.956066  0.876597  0.914608  19959.000000\n",
       "israel_palestine   0.511503  0.762341  0.612226   3383.000000\n",
       "accuracy           0.860038  0.860038  0.860038      0.860038\n",
       "macro avg          0.733784  0.819469  0.763417  23342.000000\n",
       "weighted avg       0.891634  0.860038  0.870783  23342.000000"
      ]
     },
     "execution_count": 23,
     "metadata": {},
     "output_type": "execute_result"
    }
   ],
   "source": [
    "classification_df"
   ]
  },
  {
   "cell_type": "code",
   "execution_count": 17,
   "id": "a9e9c92e",
   "metadata": {},
   "outputs": [
    {
     "data": {
      "text/plain": [
       "<sklearn.metrics._plot.confusion_matrix.ConfusionMatrixDisplay at 0x7fb9cfdcf970>"
      ]
     },
     "execution_count": 17,
     "metadata": {},
     "output_type": "execute_result"
    },
    {
     "data": {
      "image/png": "[encoded data removed]",
      "text/plain": [
       "<Figure size 640x480 with 2 Axes>"
      ]
     },
     "metadata": {},
     "output_type": "display_data"
    }
   ],
   "source": [
    "conf_matrix = confusion_matrix(y_test, y_pred)\n",
    "ConfusionMatrixDisplay(conf_matrix, display_labels=conflict_war_df['conflict'].unique()).plot()"
   ]
  },
  {
   "cell_type": "code",
   "execution_count": 18,
   "id": "f8e8c224",
   "metadata": {},
   "outputs": [
    {
     "data": {
      "text/plain": [
       "array([[17496,  2463],\n",
       "       [  804,  2579]])"
      ]
     },
     "execution_count": 18,
     "metadata": {},
     "output_type": "execute_result"
    }
   ],
   "source": [
    "conf_matrix"
   ]
  },
  {
   "cell_type": "code",
   "execution_count": 19,
   "id": "82bf2ea9",
   "metadata": {},
   "outputs": [
    {
     "data": {
      "image/png": "[encoded data removed]",
      "text/plain": [
       "<Figure size 800x600 with 1 Axes>"
      ]
     },
     "metadata": {},
     "output_type": "display_data"
    }
   ],
   "source": [
    "from sklearn.metrics import roc_curve, roc_auc_score\n",
    "\n",
    "fpr, tpr, _ = roc_curve(y_test, y_pred_probs)\n",
    "roc_auc = roc_auc_score(y_test, y_pred_probs)\n",
    "\n",
    "plt.figure(figsize=(8, 6))\n",
    "plt.plot(fpr, tpr, color='darkorange', lw=2, label=f'AUC = {roc_auc:.2f}')\n",
    "plt.plot([0, 1], [0, 1], color='navy', lw=2, linestyle='--')\n",
    "plt.xlabel('Taxa de Falso Positivo')\n",
    "plt.ylabel('Taxa de Verdadeiro Positivo')\n",
    "plt.title('Receiver Operating Characteristic (ROC) - Curva ROC')\n",
    "plt.legend(loc='lower right')\n",
    "plt.show()"
   ]
  },
  {
   "cell_type": "code",
   "execution_count": 20,
   "id": "f63cd48d",
   "metadata": {},
   "outputs": [
    {
     "data": {
      "text/plain": [
       "0.9224068814910353"
      ]
     },
     "execution_count": 20,
     "metadata": {},
     "output_type": "execute_result"
    }
   ],
   "source": [
    "roc_auc"
   ]
  },
  {
   "cell_type": "code",
   "execution_count": 21,
   "id": "d246cdfe",
   "metadata": {},
   "outputs": [
    {
     "data": {
      "image/png": "[encoded data removed]",
      "text/plain": [
       "<Figure size 800x600 with 1 Axes>"
      ]
     },
     "metadata": {},
     "output_type": "display_data"
    }
   ],
   "source": [
    "precision, recall, _ = precision_recall_curve(y_test, y_pred_probs)\n",
    "avg_precision = average_precision_score(y_test, y_pred_probs)\n",
    "\n",
    "plt.figure(figsize=(8, 6))\n",
    "plt.step(recall, precision, color='b', where='post', label='Curva Precision-Recall (area = {:.2f})'.format(avg_precision))\n",
    "plt.xlabel('Recall')\n",
    "plt.ylabel('Precision')\n",
    "plt.title('Precision-Recall')\n",
    "plt.legend(loc='upper right')\n",
    "plt.show()"
   ]
  },
  {
   "cell_type": "code",
   "execution_count": 22,
   "id": "909d7c3b",
   "metadata": {},
   "outputs": [
    {
     "data": {
      "text/plain": [
       "0.7373965674341182"
      ]
     },
     "execution_count": 22,
     "metadata": {},
     "output_type": "execute_result"
    }
   ],
   "source": [
    "avg_precision"
   ]
  },
  {
   "cell_type": "code",
   "execution_count": 25,
   "id": "5c3b4403",
   "metadata": {},
   "outputs": [
    {
     "data": {
      "text/html": [
       "<div>\n",
       "<style scoped>\n",
       "    .dataframe tbody tr th:only-of-type {\n",
       "        vertical-align: middle;\n",
       "    }\n",
       "\n",
       "    .dataframe tbody tr th {\n",
       "        vertical-align: top;\n",
       "    }\n",
       "\n",
       "    .dataframe thead th {\n",
       "        text-align: right;\n",
       "    }\n",
       "</style>\n",
       "<table border=\"1\" class=\"dataframe\">\n",
       "  <thead>\n",
       "    <tr style=\"text-align: right;\">\n",
       "      <th></th>\n",
       "      <th>post_id</th>\n",
       "      <th>comments</th>\n",
       "      <th>conflict</th>\n",
       "      <th>sentiment</th>\n",
       "      <th>label</th>\n",
       "    </tr>\n",
       "  </thead>\n",
       "  <tbody>\n",
       "    <tr>\n",
       "      <th>0</th>\n",
       "      <td>vlvgj4</td>\n",
       "      <td>hello uhjgbuijhgh community focused important ...</td>\n",
       "      <td>russia_ukraine</td>\n",
       "      <td>war_support</td>\n",
       "      <td>1</td>\n",
       "    </tr>\n",
       "    <tr>\n",
       "      <th>1</th>\n",
       "      <td>vlvgj4</td>\n",
       "      <td>uhm thats quite increase also heared recently ...</td>\n",
       "      <td>russia_ukraine</td>\n",
       "      <td>neutral</td>\n",
       "      <td>1</td>\n",
       "    </tr>\n",
       "    <tr>\n",
       "      <th>1</th>\n",
       "      <td>k70vk4r</td>\n",
       "      <td>translation amen kill jew continue gazan oppre...</td>\n",
       "      <td>israel_palestine</td>\n",
       "      <td>war_opposite</td>\n",
       "      <td>0</td>\n",
       "    </tr>\n",
       "    <tr>\n",
       "      <th>2</th>\n",
       "      <td>k70vhew</td>\n",
       "      <td>friendly fact reminder israel stealing palesti...</td>\n",
       "      <td>israel_palestine</td>\n",
       "      <td>war_opposite</td>\n",
       "      <td>0</td>\n",
       "    </tr>\n",
       "    <tr>\n",
       "      <th>2</th>\n",
       "      <td>vlvgj4</td>\n",
       "      <td>poland also announced plan double armed force ...</td>\n",
       "      <td>russia_ukraine</td>\n",
       "      <td>war_support</td>\n",
       "      <td>1</td>\n",
       "    </tr>\n",
       "  </tbody>\n",
       "</table>\n",
       "</div>"
      ],
      "text/plain": [
       "   post_id                                           comments  \\\n",
       "0   vlvgj4  hello uhjgbuijhgh community focused important ...   \n",
       "1   vlvgj4  uhm thats quite increase also heared recently ...   \n",
       "1  k70vk4r  translation amen kill jew continue gazan oppre...   \n",
       "2  k70vhew  friendly fact reminder israel stealing palesti...   \n",
       "2   vlvgj4  poland also announced plan double armed force ...   \n",
       "\n",
       "           conflict     sentiment  label  \n",
       "0    russia_ukraine   war_support      1  \n",
       "1    russia_ukraine       neutral      1  \n",
       "1  israel_palestine  war_opposite      0  \n",
       "2  israel_palestine  war_opposite      0  \n",
       "2    russia_ukraine   war_support      1  "
      ]
     },
     "execution_count": 25,
     "metadata": {},
     "output_type": "execute_result"
    }
   ],
   "source": [
    "conflict_war_df.drop('label', axis=1, inplace=True)\n",
    "conflict_war_df.head()"
   ]
  },
  {
   "cell_type": "markdown",
   "id": "f493d978",
   "metadata": {},
   "source": [
    "## Contribuições\n",
    "\n",
    "Sobre o projeto, destaca-se a geração de um arquivo CSV, `conflict_war_df.csv`, consolidando todas as contribuições produzidas a partir dessa iniciativa. \n",
    "O arquivo abaixo, reflete o conteúdo do dataframe, incluindo informações cruciais como `post_id`, `comments`, `conflict`, e `sentiment`. Essa exportação facilita a posterior análise e compartilhamento dos resultados obtidos."
   ]
  },
  {
   "cell_type": "code",
   "execution_count": 24,
   "id": "5eb576e4",
   "metadata": {},
   "outputs": [],
   "source": [
    "conflict_war_df.to_csv('conflict_war_df.csv', index=False)"
   ]
  },
  {
   "cell_type": "markdown",
   "id": "8611a17d",
   "metadata": {},
   "source": [
    "## Conclusão e Considerações Finais\n",
    "\n",
    "A implementação do modelo LSTM apresentou resultados promissores na análise de sentimentos em discursos relacionados aos conflitos Israel x Palestina e Russia x Ucrania. Observamos um progresso significativo ao longo das épocas de treinamento, com aumento na precisão e redução na perda. No entanto, a parada antecipada foi acionada na terceira época para evitar overfitting.\n",
    "\n",
    "As métricas de avaliação por classe mostram que o modelo alcançou alta precisão (0.956 para russia_ukraine), mas um desempenho mais modesto em recall e pontuação F1 para a classe israel_palestine. A acurácia geral foi de aproximadamente 86%, destacando uma boa capacidade do modelo em generalizar para novos dados.\n",
    "\n",
    "A matriz de confusão revela que o modelo apresentou dificuldades em classificar alguns casos da classe israel_palestine, resultando em falsos negativos. A área sob a curva ROC (ROC AUC) e a área sob a curva Precision-Recall (average precision) indicam que o modelo possui uma capacidade sólida de distinguir entre as classes.\n",
    "\n",
    "Embora o modelo demonstre uma habilidade considerável na classificação de sentimentos, especialmente para russia_ukraine, há espaço para aprimoramentos, especialmente na identificação de discursos relacionados a israel_palestine. Estratégias adicionais de ajuste de modelo podem ser exploradas para melhorar ainda mais o desempenho em cenários desafiadores.\n",
    "\n",
    "Para trabalhos futuros, sugerem-se abordagens como a predição de tendência de discurso para um dos 4 países (Israel, Palestina, Russia ou Ucrania), treinando modelos dedicados a apontar se o comentário tende a demonstrar apoio a um desses países. A contextualização histórica, o uso de embeddings pré-treinados para representação semântica e a incorporação de dados multimodais, como imagens e vídeos, são áreas que podem enriquecer a análise de sentimentos.\n",
    "\n",
    "Além disso, a colaboração com especialistas regionais e linguistas pode proporcionar insights valiosos, contribuindo para uma interpretação mais precisa dos discursos. Estas sugestões visam expandir a abordagem atual, considerando características específicas de cada país nos conflitos e explorando novas fontes de dados e técnicas avançadas de processamento de linguagem natural."
   ]
  },
  {
   "cell_type": "code",
   "execution_count": null,
   "id": "83b48ddf",
   "metadata": {},
   "outputs": [],
   "source": []
  }
 ],
 "metadata": {
  "kernelspec": {
   "display_name": "Python 3 (ipykernel)",
   "language": "python",
   "name": "python3"
  },
  "language_info": {
   "codemirror_mode": {
    "name": "ipython",
    "version": 3
   },
   "file_extension": ".py",
   "mimetype": "text/x-python",
   "name": "python",
   "nbconvert_exporter": "python",
   "pygments_lexer": "ipython3",
   "version": "3.10.6"
  }
 },
 "nbformat": 4,
 "nbformat_minor": 5
}
